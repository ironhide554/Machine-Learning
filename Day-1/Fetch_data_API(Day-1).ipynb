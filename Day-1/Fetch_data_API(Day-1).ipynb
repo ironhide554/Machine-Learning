{
 "cells": [
  {
   "cell_type": "code",
   "execution_count": 2,
   "id": "0833a1aa",
   "metadata": {},
   "outputs": [],
   "source": [
    "import pandas as pd\n",
    "import requests"
   ]
  },
  {
   "cell_type": "code",
   "execution_count": 20,
   "id": "debad3e8",
   "metadata": {},
   "outputs": [],
   "source": [
    "df=pd.DataFrame(response.json())"
   ]
  },
  {
   "cell_type": "code",
   "execution_count": 27,
   "id": "63b56917",
   "metadata": {},
   "outputs": [],
   "source": [
    "import requests\n",
    "\n",
    "url = \"https://weatherbit-v1-mashape.p.rapidapi.com/forecast/3hourly\"\n",
    "\n",
    "querystring = {\"lat\":\"35.5\",\"lon\":\"-78.5\"}\n",
    "\n",
    "headers = {\n",
    "\t\"X-RapidAPI-Key\": \"9c28b2e736msh47528d69977805fp135411jsnda8268d82662\",\n",
    "\t\"X-RapidAPI-Host\": \"weatherbit-v1-mashape.p.rapidapi.com\"\n",
    "}\n",
    "\n",
    "response = requests.get(url, headers=headers, params=querystring)\n",
    "\n"
   ]
  },
  {
   "cell_type": "code",
   "execution_count": 28,
   "id": "6749b4cd",
   "metadata": {},
   "outputs": [],
   "source": [
    "df2 = pd.DataFrame(response.json())"
   ]
  },
  {
   "cell_type": "code",
   "execution_count": 34,
   "id": "e033b849",
   "metadata": {},
   "outputs": [
    {
     "data": {
      "text/plain": [
       "<bound method NDFrame.describe of                                                  data  city_name state_code  \\\n",
       "0   {'wind_dir': 280, 'ghi': 0, 'dhi': 0, 'precip'...  Four Oaks         NC   \n",
       "1   {'wind_dir': 350, 'ghi': 0, 'dhi': 0, 'precip'...  Four Oaks         NC   \n",
       "2   {'wind_dir': 20, 'ghi': 78.25, 'dhi': 42.57, '...  Four Oaks         NC   \n",
       "3   {'wind_dir': 40, 'ghi': 659.18, 'dhi': 107.63,...  Four Oaks         NC   \n",
       "4   {'wind_dir': 330, 'ghi': 831.37, 'dhi': 117.99...  Four Oaks         NC   \n",
       "5   {'wind_dir': 250, 'ghi': 435.67, 'dhi': 90.91,...  Four Oaks         NC   \n",
       "6   {'wind_dir': 200, 'ghi': 0, 'dhi': 0, 'precip'...  Four Oaks         NC   \n",
       "7   {'wind_dir': 180, 'ghi': 0, 'dhi': 0, 'precip'...  Four Oaks         NC   \n",
       "8   {'wind_dir': 190, 'ghi': 0, 'dhi': 0, 'precip'...  Four Oaks         NC   \n",
       "9   {'wind_dir': 220, 'ghi': 0, 'dhi': 0, 'precip'...  Four Oaks         NC   \n",
       "10  {'wind_dir': 260, 'ghi': 82.63, 'dhi': 43.65, ...  Four Oaks         NC   \n",
       "11  {'wind_dir': 290, 'ghi': 664.49, 'dhi': 107.94...  Four Oaks         NC   \n",
       "12  {'wind_dir': 270, 'ghi': 835.79, 'dhi': 118.19...  Four Oaks         NC   \n",
       "13  {'wind_dir': 240, 'ghi': 439.15, 'dhi': 91.18,...  Four Oaks         NC   \n",
       "14  {'wind_dir': 230, 'ghi': 0, 'dhi': 0, 'precip'...  Four Oaks         NC   \n",
       "15  {'wind_dir': 250, 'ghi': 0, 'dhi': 0, 'precip'...  Four Oaks         NC   \n",
       "16  {'wind_dir': 320, 'ghi': 0, 'dhi': 0, 'precip'...  Four Oaks         NC   \n",
       "17  {'wind_dir': 340, 'ghi': 0, 'dhi': 0, 'precip'...  Four Oaks         NC   \n",
       "18  {'wind_dir': 350, 'ghi': 87.05, 'dhi': 44.7, '...  Four Oaks         NC   \n",
       "19  {'wind_dir': 330, 'ghi': 669.76, 'dhi': 108.25...  Four Oaks         NC   \n",
       "20  {'wind_dir': 310, 'ghi': 840.15, 'dhi': 118.39...  Four Oaks         NC   \n",
       "21  {'wind_dir': 300, 'ghi': 442.6, 'dhi': 91.45, ...  Four Oaks         NC   \n",
       "22  {'wind_dir': 320, 'ghi': 0, 'dhi': 0, 'precip'...  Four Oaks         NC   \n",
       "23  {'wind_dir': 330, 'ghi': 0, 'dhi': 0, 'precip'...  Four Oaks         NC   \n",
       "24  {'wind_dir': 320, 'ghi': 0, 'dhi': 0, 'precip'...  Four Oaks         NC   \n",
       "25  {'wind_dir': 300, 'ghi': 0, 'dhi': 0, 'precip'...  Four Oaks         NC   \n",
       "26  {'wind_dir': 290, 'ghi': 91.52, 'dhi': 45.73, ...  Four Oaks         NC   \n",
       "27  {'wind_dir': 280, 'ghi': 675, 'dhi': 108.55, '...  Four Oaks         NC   \n",
       "28  {'wind_dir': 270, 'ghi': 844.46, 'dhi': 118.59...  Four Oaks         NC   \n",
       "29  {'wind_dir': 250, 'ghi': 446.01, 'dhi': 91.71,...  Four Oaks         NC   \n",
       "30  {'wind_dir': 230, 'ghi': 0, 'dhi': 0, 'precip'...  Four Oaks         NC   \n",
       "31  {'wind_dir': 235, 'ghi': 0, 'dhi': 0, 'precip'...  Four Oaks         NC   \n",
       "32  {'wind_dir': 240, 'ghi': 0, 'dhi': 0, 'precip'...  Four Oaks         NC   \n",
       "33  {'wind_dir': 245, 'ghi': 0, 'dhi': 0, 'precip'...  Four Oaks         NC   \n",
       "34  {'wind_dir': 250, 'ghi': 96.03, 'dhi': 46.74, ...  Four Oaks         NC   \n",
       "35  {'wind_dir': 260, 'ghi': 680.2, 'dhi': 108.84,...  Four Oaks         NC   \n",
       "36  {'wind_dir': 270, 'ghi': 848.71, 'dhi': 118.78...  Four Oaks         NC   \n",
       "37  {'wind_dir': 280, 'ghi': 449.38, 'dhi': 91.96,...  Four Oaks         NC   \n",
       "38  {'wind_dir': 290, 'ghi': 0, 'dhi': 0, 'precip'...  Four Oaks         NC   \n",
       "39  {'wind_dir': 325, 'ghi': 0, 'dhi': 0, 'precip'...  Four Oaks         NC   \n",
       "\n",
       "   country_code          timezone   lat   lon  \n",
       "0            US  America/New_York  35.5 -78.5  \n",
       "1            US  America/New_York  35.5 -78.5  \n",
       "2            US  America/New_York  35.5 -78.5  \n",
       "3            US  America/New_York  35.5 -78.5  \n",
       "4            US  America/New_York  35.5 -78.5  \n",
       "5            US  America/New_York  35.5 -78.5  \n",
       "6            US  America/New_York  35.5 -78.5  \n",
       "7            US  America/New_York  35.5 -78.5  \n",
       "8            US  America/New_York  35.5 -78.5  \n",
       "9            US  America/New_York  35.5 -78.5  \n",
       "10           US  America/New_York  35.5 -78.5  \n",
       "11           US  America/New_York  35.5 -78.5  \n",
       "12           US  America/New_York  35.5 -78.5  \n",
       "13           US  America/New_York  35.5 -78.5  \n",
       "14           US  America/New_York  35.5 -78.5  \n",
       "15           US  America/New_York  35.5 -78.5  \n",
       "16           US  America/New_York  35.5 -78.5  \n",
       "17           US  America/New_York  35.5 -78.5  \n",
       "18           US  America/New_York  35.5 -78.5  \n",
       "19           US  America/New_York  35.5 -78.5  \n",
       "20           US  America/New_York  35.5 -78.5  \n",
       "21           US  America/New_York  35.5 -78.5  \n",
       "22           US  America/New_York  35.5 -78.5  \n",
       "23           US  America/New_York  35.5 -78.5  \n",
       "24           US  America/New_York  35.5 -78.5  \n",
       "25           US  America/New_York  35.5 -78.5  \n",
       "26           US  America/New_York  35.5 -78.5  \n",
       "27           US  America/New_York  35.5 -78.5  \n",
       "28           US  America/New_York  35.5 -78.5  \n",
       "29           US  America/New_York  35.5 -78.5  \n",
       "30           US  America/New_York  35.5 -78.5  \n",
       "31           US  America/New_York  35.5 -78.5  \n",
       "32           US  America/New_York  35.5 -78.5  \n",
       "33           US  America/New_York  35.5 -78.5  \n",
       "34           US  America/New_York  35.5 -78.5  \n",
       "35           US  America/New_York  35.5 -78.5  \n",
       "36           US  America/New_York  35.5 -78.5  \n",
       "37           US  America/New_York  35.5 -78.5  \n",
       "38           US  America/New_York  35.5 -78.5  \n",
       "39           US  America/New_York  35.5 -78.5  >"
      ]
     },
     "execution_count": 34,
     "metadata": {},
     "output_type": "execute_result"
    }
   ],
   "source": [
    "df2.describe"
   ]
  },
  {
   "cell_type": "code",
   "execution_count": 35,
   "id": "0cf49031",
   "metadata": {},
   "outputs": [
    {
     "data": {
      "text/plain": [
       "(40, 7)"
      ]
     },
     "execution_count": 35,
     "metadata": {},
     "output_type": "execute_result"
    }
   ],
   "source": [
    "df2.shape"
   ]
  },
  {
   "cell_type": "code",
   "execution_count": 36,
   "id": "453c1efe",
   "metadata": {},
   "outputs": [],
   "source": [
    "df2.to_csv(\"weather.csv\")"
   ]
  },
  {
   "cell_type": "code",
   "execution_count": 45,
   "id": "e9cac950",
   "metadata": {},
   "outputs": [],
   "source": [
    "import requests\n",
    "\n",
    "url = \"https://alpha-vantage.p.rapidapi.com/query\"\n",
    "\n",
    "querystring = {\"interval\":\"5min\",\"function\":\"TIME_SERIES_INTRADAY\",\"symbol\":\"MSFT\",\"datatype\":\"json\",\"output_size\":\"compact\"}\n",
    "\n",
    "headers = {\n",
    "\t\"X-RapidAPI-Key\": \"9c28b2e736msh47528d69977805fp135411jsnda8268d82662\",\n",
    "\t\"X-RapidAPI-Host\": \"alpha-vantage.p.rapidapi.com\"\n",
    "}\n",
    "\n",
    "response = requests.get(url, headers=headers, params=querystring)\n",
    "\n",
    "df = pd.DataFrame(response.json())"
   ]
  },
  {
   "cell_type": "code",
   "execution_count": 46,
   "id": "1e45c2b8",
   "metadata": {},
   "outputs": [
    {
     "data": {
      "text/html": [
       "<div>\n",
       "<style scoped>\n",
       "    .dataframe tbody tr th:only-of-type {\n",
       "        vertical-align: middle;\n",
       "    }\n",
       "\n",
       "    .dataframe tbody tr th {\n",
       "        vertical-align: top;\n",
       "    }\n",
       "\n",
       "    .dataframe thead th {\n",
       "        text-align: right;\n",
       "    }\n",
       "</style>\n",
       "<table border=\"1\" class=\"dataframe\">\n",
       "  <thead>\n",
       "    <tr style=\"text-align: right;\">\n",
       "      <th></th>\n",
       "      <th>Meta Data</th>\n",
       "      <th>Time Series (5min)</th>\n",
       "    </tr>\n",
       "  </thead>\n",
       "  <tbody>\n",
       "    <tr>\n",
       "      <th>1. Information</th>\n",
       "      <td>Intraday (5min) open, high, low, close prices ...</td>\n",
       "      <td>NaN</td>\n",
       "    </tr>\n",
       "    <tr>\n",
       "      <th>2. Symbol</th>\n",
       "      <td>MSFT</td>\n",
       "      <td>NaN</td>\n",
       "    </tr>\n",
       "    <tr>\n",
       "      <th>3. Last Refreshed</th>\n",
       "      <td>2024-03-15 19:55:00</td>\n",
       "      <td>NaN</td>\n",
       "    </tr>\n",
       "    <tr>\n",
       "      <th>4. Interval</th>\n",
       "      <td>5min</td>\n",
       "      <td>NaN</td>\n",
       "    </tr>\n",
       "    <tr>\n",
       "      <th>5. Output Size</th>\n",
       "      <td>Compact</td>\n",
       "      <td>NaN</td>\n",
       "    </tr>\n",
       "    <tr>\n",
       "      <th>...</th>\n",
       "      <td>...</td>\n",
       "      <td>...</td>\n",
       "    </tr>\n",
       "    <tr>\n",
       "      <th>2024-03-15 12:00:00</th>\n",
       "      <td>NaN</td>\n",
       "      <td>{'1. open': '415.2500', '2. high': '415.8300',...</td>\n",
       "    </tr>\n",
       "    <tr>\n",
       "      <th>2024-03-15 11:55:00</th>\n",
       "      <td>NaN</td>\n",
       "      <td>{'1. open': '415.3800', '2. high': '415.5600',...</td>\n",
       "    </tr>\n",
       "    <tr>\n",
       "      <th>2024-03-15 11:50:00</th>\n",
       "      <td>NaN</td>\n",
       "      <td>{'1. open': '415.3900', '2. high': '415.8000',...</td>\n",
       "    </tr>\n",
       "    <tr>\n",
       "      <th>2024-03-15 11:45:00</th>\n",
       "      <td>NaN</td>\n",
       "      <td>{'1. open': '415.7200', '2. high': '415.8340',...</td>\n",
       "    </tr>\n",
       "    <tr>\n",
       "      <th>2024-03-15 11:40:00</th>\n",
       "      <td>NaN</td>\n",
       "      <td>{'1. open': '416.3950', '2. high': '416.4200',...</td>\n",
       "    </tr>\n",
       "  </tbody>\n",
       "</table>\n",
       "<p>106 rows × 2 columns</p>\n",
       "</div>"
      ],
      "text/plain": [
       "                                                             Meta Data  \\\n",
       "1. Information       Intraday (5min) open, high, low, close prices ...   \n",
       "2. Symbol                                                         MSFT   \n",
       "3. Last Refreshed                                  2024-03-15 19:55:00   \n",
       "4. Interval                                                       5min   \n",
       "5. Output Size                                                 Compact   \n",
       "...                                                                ...   \n",
       "2024-03-15 12:00:00                                                NaN   \n",
       "2024-03-15 11:55:00                                                NaN   \n",
       "2024-03-15 11:50:00                                                NaN   \n",
       "2024-03-15 11:45:00                                                NaN   \n",
       "2024-03-15 11:40:00                                                NaN   \n",
       "\n",
       "                                                    Time Series (5min)  \n",
       "1. Information                                                     NaN  \n",
       "2. Symbol                                                          NaN  \n",
       "3. Last Refreshed                                                  NaN  \n",
       "4. Interval                                                        NaN  \n",
       "5. Output Size                                                     NaN  \n",
       "...                                                                ...  \n",
       "2024-03-15 12:00:00  {'1. open': '415.2500', '2. high': '415.8300',...  \n",
       "2024-03-15 11:55:00  {'1. open': '415.3800', '2. high': '415.5600',...  \n",
       "2024-03-15 11:50:00  {'1. open': '415.3900', '2. high': '415.8000',...  \n",
       "2024-03-15 11:45:00  {'1. open': '415.7200', '2. high': '415.8340',...  \n",
       "2024-03-15 11:40:00  {'1. open': '416.3950', '2. high': '416.4200',...  \n",
       "\n",
       "[106 rows x 2 columns]"
      ]
     },
     "execution_count": 46,
     "metadata": {},
     "output_type": "execute_result"
    }
   ],
   "source": [
    "df"
   ]
  },
  {
   "cell_type": "code",
   "execution_count": 47,
   "id": "3d71e11f",
   "metadata": {},
   "outputs": [
    {
     "data": {
      "text/plain": [
       "(106, 2)"
      ]
     },
     "execution_count": 47,
     "metadata": {},
     "output_type": "execute_result"
    }
   ],
   "source": [
    "df.shape"
   ]
  },
  {
   "cell_type": "code",
   "execution_count": 48,
   "id": "211dd9ed",
   "metadata": {},
   "outputs": [],
   "source": [
    "df.to_csv(\"Cryptocurrency.csv\")"
   ]
  },
  {
   "cell_type": "code",
   "execution_count": null,
   "id": "0c759658",
   "metadata": {},
   "outputs": [],
   "source": [
    "import requests\n",
    "\n",
    "url = \"https://moviesdatabase.p.rapidapi.com/titles/series/%7BseriesId%7D\"\n",
    "\n",
    "headers = {\n",
    "\t\"X-RapidAPI-Key\": \"9c28b2e736msh47528d69977805fp135411jsnda8268d82662\",\n",
    "\t\"X-RapidAPI-Host\": \"moviesdatabase.p.rapidapi.com\"\n",
    "}\n",
    "\n",
    "response = requests.get(url, headers=headers)\n",
    "\n",
    "print(response.json())"
   ]
  },
  {
   "cell_type": "code",
   "execution_count": null,
   "id": "672fe6eb",
   "metadata": {
    "scrolled": true
   },
   "outputs": [],
   "source": [
    "df4 = pd.DataFrame(response.json())"
   ]
  },
  {
   "cell_type": "code",
   "execution_count": null,
   "id": "df18f07c",
   "metadata": {},
   "outputs": [],
   "source": [
    "df4\n"
   ]
  },
  {
   "cell_type": "code",
   "execution_count": 53,
   "id": "4e475a0d",
   "metadata": {},
   "outputs": [
    {
     "data": {
      "text/plain": [
       "(6, 18)"
      ]
     },
     "execution_count": 53,
     "metadata": {},
     "output_type": "execute_result"
    }
   ],
   "source": [
    "df4.shape"
   ]
  },
  {
   "cell_type": "code",
   "execution_count": 54,
   "id": "8b343022",
   "metadata": {},
   "outputs": [],
   "source": [
    "df4.to_csv(\"Location_from_IP.csv\")"
   ]
  },
  {
   "cell_type": "code",
   "execution_count": null,
   "id": "04bf6993",
   "metadata": {},
   "outputs": [],
   "source": []
  }
 ],
 "metadata": {
  "kernelspec": {
   "display_name": "Python 3 (ipykernel)",
   "language": "python",
   "name": "python3"
  },
  "language_info": {
   "codemirror_mode": {
    "name": "ipython",
    "version": 3
   },
   "file_extension": ".py",
   "mimetype": "text/x-python",
   "name": "python",
   "nbconvert_exporter": "python",
   "pygments_lexer": "ipython3",
   "version": "3.11.5"
  }
 },
 "nbformat": 4,
 "nbformat_minor": 5
}
